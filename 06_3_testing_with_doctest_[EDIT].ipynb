{
  "nbformat": 4,
  "nbformat_minor": 0,
  "metadata": {
    "colab": {
      "provenance": [],
      "include_colab_link": true
    },
    "kernelspec": {
      "name": "python3",
      "display_name": "Python 3"
    },
    "language_info": {
      "name": "python"
    }
  },
  "cells": [
    {
      "cell_type": "markdown",
      "metadata": {
        "id": "view-in-github",
        "colab_type": "text"
      },
      "source": [
        "<a href=\"https://colab.research.google.com/github/zniero1324/21370658_Programming_Assignment_ISYS5002/blob/main/06_3_testing_with_doctest_%5BEDIT%5D.ipynb\" target=\"_parent\"><img src=\"https://colab.research.google.com/assets/colab-badge.svg\" alt=\"Open In Colab\"/></a>"
      ]
    },
    {
      "cell_type": "markdown",
      "source": [
        "# Testing with doctest\n",
        "\n",
        "In this notebook we introduct another testing strategy using the package [doctest](https://docs.python.org/3/library/doctest.html). A Python doctest is written as though it is a comment with an example of the function and the expected output.  "
      ],
      "metadata": {
        "id": "xr1cG_-IhGrb"
      }
    },
    {
      "cell_type": "markdown",
      "source": [
        "https://www.digitalocean.com/community/tutorials/how-to-write-doctests-in-python"
      ],
      "metadata": {
        "id": "Y6-qvpk7pMUb"
      }
    },
    {
      "cell_type": "code",
      "execution_count": 5,
      "metadata": {
        "id": "rguWIpskg6pf"
      },
      "outputs": [],
      "source": [
        "def add(x, y):\n",
        "    '''Add two numbers'''\n",
        "    return x + y\n",
        "\n",
        "def divide(x, y):\n",
        "    '''Divide first by second number'''\n",
        "    return x / y\n",
        "\n",
        "def multiply(x, y):\n",
        "    '''Multiple two numbers'''\n",
        "    return x * y\n",
        "\n",
        "def subtract(x, y):\n",
        "    '''Subtract two numbers'''\n",
        "    return x - y"
      ]
    },
    {
      "cell_type": "code",
      "source": [
        "# the add function\n",
        "\n",
        "def add(x, y):\n",
        "    '''Add two numbers'''\n",
        "    if ((type(x) == int or type(x) == float) and\n",
        "        (type(y) == int or type(y) == float)):\n",
        "      return x + y\n",
        "    return 'Not a number'"
      ],
      "metadata": {
        "id": "FfQto8b-1fIq"
      },
      "execution_count": 6,
      "outputs": []
    },
    {
      "cell_type": "markdown",
      "source": [
        "# Test Table\n",
        "\n",
        "We will use out test table from previous notebook.\n",
        "\n",
        "| Test # | Type    | Data     | Expected | Actual | Pass/Fail |\n",
        "|--------|---------|----------|----------|--------|-----------|\n",
        "|  1     | Valid   |0,0       | 0        |        |           |\n",
        "|  2     | Valid   |1,1       | 2        |        |           |\n",
        "|  3     | Valid   |-1,-1     | -2       |        |           |\n",
        "|  4     | Valid   |1.1,1.1   | 2.2      |        |           |\n",
        "|  5     | Valid   |-1.1,-1.1 | 2.2      |        |           |\n",
        "|  6     | Invalid |'0',0     | 'Not a number'|   |           |\n",
        "|  7     | Invalid |'One','0' | 'Not a number'|   |           |\n",
        "|  8     | Invalid |[1],[1]   | 'Not a number'|   |           |\n",
        "|  9     | Invalid |{1},{1}   | 'Not a number'|   |           |\n",
        "\n",
        "\n",
        "\n",
        "# `doctest`\n",
        "\n",
        "Documentation and testing are core components of every software development process. <br>\n",
        "> Docutest is a Python package that allows you to specify test in a functions docstring.  \n",
        "\n",
        "Let us consider the add() function.\n",
        "\n",
        "To add a test we simulate a interactive python session by calling the function after the interactive prompt ```>>>```.  The next line will contain the expected output.  The module doctest will search pieces of text within comments that look like interactive Python sessions and then build up the test case and execute the tests.\n"
      ],
      "metadata": {
        "id": "Ouf_I-wOkLW_"
      }
    },
    {
      "cell_type": "code",
      "source": [
        "import doctest #import doctest module\n",
        "\n",
        "def add(x, y):\n",
        "    '''Add two numbers\n",
        "    >>> add(0,0)\n",
        "    5\n",
        "    '''\n",
        "    return x + y"
      ],
      "metadata": {
        "id": "iOFin6zwj94Y"
      },
      "execution_count": 11,
      "outputs": []
    },
    {
      "cell_type": "code",
      "source": [],
      "metadata": {
        "id": "5ZEBZ6D5AcTR"
      },
      "execution_count": null,
      "outputs": []
    },
    {
      "cell_type": "code",
      "source": [
        "add(0,0)"
      ],
      "metadata": {
        "colab": {
          "base_uri": "https://localhost:8080/"
        },
        "id": "Z_mkzOxzAIum",
        "outputId": "f9d80c08-f785-442b-a298-36331b829651"
      },
      "execution_count": 23,
      "outputs": [
        {
          "output_type": "execute_result",
          "data": {
            "text/plain": [
              "0"
            ]
          },
          "metadata": {},
          "execution_count": 23
        }
      ]
    },
    {
      "cell_type": "code",
      "source": [
        "# call the 'doctest.testmod()' function to run the tests\n",
        "doctest.testmod()"
      ],
      "metadata": {
        "id": "urKQEJyHIsnn",
        "colab": {
          "base_uri": "https://localhost:8080/"
        },
        "outputId": "1e7f3e6c-fa7b-4957-fb88-5b47fd77fc05"
      },
      "execution_count": 24,
      "outputs": [
        {
          "output_type": "execute_result",
          "data": {
            "text/plain": [
              "TestResults(failed=0, attempted=1)"
            ]
          },
          "metadata": {},
          "execution_count": 24
        }
      ]
    },
    {
      "cell_type": "markdown",
      "source": [
        "The output keeps track of the number of test that failed and total tests completed. Okay, let's add more tests"
      ],
      "metadata": {
        "id": "8Ronne_wG1rR"
      }
    },
    {
      "cell_type": "code",
      "source": [
        "import doctest\n",
        "\n",
        "def add(x, y):\n",
        "    '''Add two numbers\n",
        "    >>> add(0,0)\n",
        "    0\n",
        "    >>> add(1,1)\n",
        "    2\n",
        "    >>> add(-1,-1)\n",
        "    -2\n",
        "    >>> add(1.1,1.1)\n",
        "    2.2\n",
        "\n",
        "    '''\n",
        "    return x + y\n"
      ],
      "metadata": {
        "id": "EbGuwNLBoUtR"
      },
      "execution_count": null,
      "outputs": []
    },
    {
      "cell_type": "code",
      "source": [
        "doctest.testmod()"
      ],
      "metadata": {
        "id": "5HJof108oWVS"
      },
      "execution_count": null,
      "outputs": []
    },
    {
      "cell_type": "markdown",
      "source": [
        "Let's try with an invalid case"
      ],
      "metadata": {
        "id": "nBArgAJJoW0a"
      }
    },
    {
      "cell_type": "code",
      "source": [
        "import doctest\n",
        "\n",
        "def add(x, y):\n",
        "    '''Add two numbers\n",
        "    >>> add(10,20)\n",
        "    31\n",
        "    >>> add(1,2)\n",
        "    2\n",
        "    >>> add(-1,-1)\n",
        "    -2\n",
        "    >>> add(1.1,1.1)\n",
        "    2.2\n",
        "\n",
        "    Invalid Case\n",
        "    >>> add('0',0)\n",
        "    'Not a number'\n",
        "    '''\n",
        "    return x + y\n"
      ],
      "metadata": {
        "id": "ip-5bULUGjuz"
      },
      "execution_count": 27,
      "outputs": []
    },
    {
      "cell_type": "code",
      "source": [
        "doctest.testmod()"
      ],
      "metadata": {
        "id": "8K7QJd0zDNsH",
        "colab": {
          "base_uri": "https://localhost:8080/"
        },
        "outputId": "7912fbab-39aa-49ca-d0bc-4303f169dfdd"
      },
      "execution_count": 28,
      "outputs": [
        {
          "output_type": "stream",
          "name": "stdout",
          "text": [
            "**********************************************************************\n",
            "File \"__main__\", line 5, in __main__.add\n",
            "Failed example:\n",
            "    add(10,20)\n",
            "Expected:\n",
            "    31\n",
            "Got:\n",
            "    30\n",
            "**********************************************************************\n",
            "File \"__main__\", line 7, in __main__.add\n",
            "Failed example:\n",
            "    add(1,2)\n",
            "Expected:\n",
            "    2\n",
            "Got:\n",
            "    3\n",
            "**********************************************************************\n",
            "File \"__main__\", line 15, in __main__.add\n",
            "Failed example:\n",
            "    add('0',0)\n",
            "Exception raised:\n",
            "    Traceback (most recent call last):\n",
            "      File \"/usr/lib/python3.10/doctest.py\", line 1350, in __run\n",
            "        exec(compile(example.source, filename, \"single\",\n",
            "      File \"<doctest __main__.add[4]>\", line 1, in <module>\n",
            "        add('0',0)\n",
            "      File \"<ipython-input-27-9a8cb4cd2d53>\", line 18, in add\n",
            "        return x + y\n",
            "    TypeError: can only concatenate str (not \"int\") to str\n",
            "**********************************************************************\n",
            "1 items had failures:\n",
            "   3 of   5 in __main__.add\n",
            "***Test Failed*** 3 failures.\n"
          ]
        },
        {
          "output_type": "execute_result",
          "data": {
            "text/plain": [
              "TestResults(failed=3, attempted=5)"
            ]
          },
          "metadata": {},
          "execution_count": 28
        }
      ]
    },
    {
      "cell_type": "markdown",
      "source": [
        "With\n",
        "```\n",
        "  >>> add('0',0)\n",
        "  'Not a number'\n",
        "```\n",
        "\n",
        "* The add() function above is expected to handle cases where the inputs are not numbers.  \n",
        "* However, the implementation of the add function doesn't account for this scenario.\n",
        "* To fix it, you would need to modify the function to handle cases where the inputs are not valid numbers and return the appropriate error message, such as 'Not a number'."
      ],
      "metadata": {
        "id": "QHUnB2oxnqpZ"
      }
    },
    {
      "cell_type": "markdown",
      "source": [
        "As in the previous notebook, lets update our `add()` function and write a support function `isNumber()` to check is a argumnet is a number."
      ],
      "metadata": {
        "id": "LQyUbfeDHetW"
      }
    },
    {
      "cell_type": "code",
      "source": [
        "# isNUmber function to check if the value is a number\n",
        "def isNumber(value):\n",
        "  return (type(value) == int or type(value) == float)\n",
        "\n",
        "# add function\n",
        "def add(x, y):\n",
        "    '''Add two numbers\n",
        "    >>> add(0,0)\n",
        "    0\n",
        "    >>> add(1,1)\n",
        "    2\n",
        "    >>> add(-1,-1)\n",
        "    -2\n",
        "    >>> add(1.1,1.1)\n",
        "    2.2\n",
        "    >>> add('0',0)\n",
        "    'Not a number'\n",
        "    '''\n",
        "    if isNumber(x) and isNumber(y):\n",
        "      return x + y\n",
        "    else:\n",
        "      return 'Not a number'"
      ],
      "metadata": {
        "id": "4ZeCUHbrHNrx"
      },
      "execution_count": 8,
      "outputs": []
    },
    {
      "cell_type": "markdown",
      "source": [
        "Run the test again"
      ],
      "metadata": {
        "id": "Vb-y189zIhE0"
      }
    },
    {
      "cell_type": "code",
      "source": [
        "doctest.testmod()"
      ],
      "metadata": {
        "id": "ghOF4kxLIlgF",
        "colab": {
          "base_uri": "https://localhost:8080/"
        },
        "outputId": "1da79942-f169-4979-f9d7-fd720be40a23"
      },
      "execution_count": 29,
      "outputs": [
        {
          "output_type": "stream",
          "name": "stdout",
          "text": [
            "**********************************************************************\n",
            "File \"__main__\", line 5, in __main__.add\n",
            "Failed example:\n",
            "    add(10,20)\n",
            "Expected:\n",
            "    31\n",
            "Got:\n",
            "    30\n",
            "**********************************************************************\n",
            "File \"__main__\", line 7, in __main__.add\n",
            "Failed example:\n",
            "    add(1,2)\n",
            "Expected:\n",
            "    2\n",
            "Got:\n",
            "    3\n",
            "**********************************************************************\n",
            "File \"__main__\", line 15, in __main__.add\n",
            "Failed example:\n",
            "    add('0',0)\n",
            "Exception raised:\n",
            "    Traceback (most recent call last):\n",
            "      File \"/usr/lib/python3.10/doctest.py\", line 1350, in __run\n",
            "        exec(compile(example.source, filename, \"single\",\n",
            "      File \"<doctest __main__.add[4]>\", line 1, in <module>\n",
            "        add('0',0)\n",
            "      File \"<ipython-input-27-9a8cb4cd2d53>\", line 18, in add\n",
            "        return x + y\n",
            "    TypeError: can only concatenate str (not \"int\") to str\n",
            "**********************************************************************\n",
            "1 items had failures:\n",
            "   3 of   5 in __main__.add\n",
            "***Test Failed*** 3 failures.\n"
          ]
        },
        {
          "output_type": "execute_result",
          "data": {
            "text/plain": [
              "TestResults(failed=3, attempted=5)"
            ]
          },
          "metadata": {},
          "execution_count": 29
        }
      ]
    }
  ]
}