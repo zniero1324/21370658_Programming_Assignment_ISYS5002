{
  "nbformat": 4,
  "nbformat_minor": 0,
  "metadata": {
    "colab": {
      "provenance": [],
      "include_colab_link": true
    },
    "kernelspec": {
      "name": "python3",
      "display_name": "Python 3"
    },
    "language_info": {
      "name": "python"
    }
  },
  "cells": [
    {
      "cell_type": "markdown",
      "metadata": {
        "id": "view-in-github",
        "colab_type": "text"
      },
      "source": [
        "<a href=\"https://colab.research.google.com/github/zniero1324/21370658_Programming_Assignment_ISYS5002/blob/main/2023_S2_Flu_Tracker_Kasilag_21370658.ipynb\" target=\"_parent\"><img src=\"https://colab.research.google.com/assets/colab-badge.svg\" alt=\"Open In Colab\"/></a>"
      ]
    },
    {
      "cell_type": "markdown",
      "source": [
        "# Formative Programming Assignment\n",
        "\n",
        "**Due: Sunday 3rd September**\n",
        "\n",
        "## **Problem Statement:**\n",
        "During the flu season, it is crucial for healthcare organisations to accurately monitor and analyse the number of infected patients to effectively respond to potential outbreaks. To streamline this process, a software solution needs to be designed and developed that allows users to input daily reported infection numbers over the course of a week. The program should then provide key statistical insights such as the total, average, smallest, and largest of these values and a graphical representation to visualise the trend of infection counts throughout the week.\n"
      ],
      "metadata": {
        "id": "WhNEeF5C8oAn"
      }
    },
    {
      "cell_type": "markdown",
      "source": [
        "**Before you start:**\n",
        "\n",
        "* setup the **new private repo** and **invite isys5002.itp@gmail.com** as a **collaborator** to your private GitHub repository.\n",
        "* **Download** the attached .ipynb notebook and **rename** it to ***2023_S1_Flu_Tracker_[name]_[studentID]***\n",
        "* Save the renamed notebook to your private GitHub repository.\n",
        "* Copy and paste the **repository/notebook link** in the **ANSWER textbox on Blackboard**."
      ],
      "metadata": {
        "id": "xgxJMH6h_UTi"
      }
    },
    {
      "cell_type": "markdown",
      "source": [
        "**Task:**\n",
        "\n",
        "Following the **six-steps problem-solving methodology**, **design and implement** the solution following good programming practices, such as modularising code, validating inputs, handling errors properly, and adhering to the [PEP8](https://peps.python.org/pep-0008/) style guide.\n",
        "\n",
        "Adhering to PEP8 standards:\n",
        "* programming style naming conventions used in the PEP8, which include:\n",
        "  * Meaningful names for projects, variables, methods, and controls.\n",
        "  * Correct capitalisation of variables and methods\n",
        "* Appropriate use of comments\n",
        "* Reference any relevant forums, websites, and videos that you used.\n",
        "* Use of space and indentation to the program is easy to read."
      ],
      "metadata": {
        "id": "Vl1HBpkh_C5b"
      }
    },
    {
      "cell_type": "markdown",
      "source": [
        "# **ANSWER**"
      ],
      "metadata": {
        "id": "fe3nQ5p8_Hdc"
      }
    },
    {
      "cell_type": "code",
      "source": [
        "!pip install PyInputPlus\n",
        "!pip install pandas"
      ],
      "metadata": {
        "colab": {
          "base_uri": "https://localhost:8080/"
        },
        "id": "TXN3pgIZFxLC",
        "outputId": "f02ab88d-7787-4ddb-95a2-e247f9c285ff"
      },
      "execution_count": 1,
      "outputs": [
        {
          "output_type": "stream",
          "name": "stdout",
          "text": [
            "Collecting PyInputPlus\n",
            "  Downloading PyInputPlus-0.2.12.tar.gz (20 kB)\n",
            "  Installing build dependencies ... \u001b[?25l\u001b[?25hdone\n",
            "  Getting requirements to build wheel ... \u001b[?25l\u001b[?25hdone\n",
            "  Preparing metadata (pyproject.toml) ... \u001b[?25l\u001b[?25hdone\n",
            "Collecting pysimplevalidate>=0.2.7 (from PyInputPlus)\n",
            "  Downloading PySimpleValidate-0.2.12.tar.gz (22 kB)\n",
            "  Installing build dependencies ... \u001b[?25l\u001b[?25hdone\n",
            "  Getting requirements to build wheel ... \u001b[?25l\u001b[?25hdone\n",
            "  Preparing metadata (pyproject.toml) ... \u001b[?25l\u001b[?25hdone\n",
            "Collecting stdiomask>=0.0.3 (from PyInputPlus)\n",
            "  Downloading stdiomask-0.0.6.tar.gz (3.6 kB)\n",
            "  Installing build dependencies ... \u001b[?25l\u001b[?25hdone\n",
            "  Getting requirements to build wheel ... \u001b[?25l\u001b[?25hdone\n",
            "  Preparing metadata (pyproject.toml) ... \u001b[?25l\u001b[?25hdone\n",
            "Building wheels for collected packages: PyInputPlus, pysimplevalidate, stdiomask\n",
            "  Building wheel for PyInputPlus (pyproject.toml) ... \u001b[?25l\u001b[?25hdone\n",
            "  Created wheel for PyInputPlus: filename=PyInputPlus-0.2.12-py3-none-any.whl size=11295 sha256=abf7edc30d42f9a5e0eb83f35540847de0cca33501e8a09c525178efbd40f821\n",
            "  Stored in directory: /root/.cache/pip/wheels/13/ec/a5/f780c8008b74e885aada43369ebf4d350edfd12bb5909ccb23\n",
            "  Building wheel for pysimplevalidate (pyproject.toml) ... \u001b[?25l\u001b[?25hdone\n",
            "  Created wheel for pysimplevalidate: filename=PySimpleValidate-0.2.12-py3-none-any.whl size=16177 sha256=39be86c1b10e88a26d19d40c45f005b490f46ec936c953a7b1fa8a9bf26b0bfb\n",
            "  Stored in directory: /root/.cache/pip/wheels/64/29/c9/2ee861e5b0775e289013b7c7157e0bdcea3a1b844f835b2eb8\n",
            "  Building wheel for stdiomask (pyproject.toml) ... \u001b[?25l\u001b[?25hdone\n",
            "  Created wheel for stdiomask: filename=stdiomask-0.0.6-py3-none-any.whl size=3306 sha256=deb73b3b98556911165254256f9381fabfb831b8a54694b079f7d0e4dda3240a\n",
            "  Stored in directory: /root/.cache/pip/wheels/6c/00/4b/0715696f101d7376f67a83cf3d545feb8c241eeee75b80bb6f\n",
            "Successfully built PyInputPlus pysimplevalidate stdiomask\n",
            "Installing collected packages: stdiomask, pysimplevalidate, PyInputPlus\n",
            "Successfully installed PyInputPlus-0.2.12 pysimplevalidate-0.2.12 stdiomask-0.0.6\n",
            "Requirement already satisfied: pandas in /usr/local/lib/python3.10/dist-packages (1.5.3)\n",
            "Requirement already satisfied: python-dateutil>=2.8.1 in /usr/local/lib/python3.10/dist-packages (from pandas) (2.8.2)\n",
            "Requirement already satisfied: pytz>=2020.1 in /usr/local/lib/python3.10/dist-packages (from pandas) (2023.3)\n",
            "Requirement already satisfied: numpy>=1.21.0 in /usr/local/lib/python3.10/dist-packages (from pandas) (1.23.5)\n",
            "Requirement already satisfied: six>=1.5 in /usr/local/lib/python3.10/dist-packages (from python-dateutil>=2.8.1->pandas) (1.16.0)\n"
          ]
        }
      ]
    },
    {
      "cell_type": "code",
      "source": [
        "import datetime\n",
        "import pandas as pd\n",
        "import matplotlib.pyplot as pt\n",
        "import pyinputplus as monitor\n",
        "\n",
        "contain_data_list = []  # List to contain all start date of the week we will input.\n",
        "no_of_infected_per_week = []  # List to contain the no. of infected people.\n",
        "today = datetime.date.today() # get todays full date\n",
        "year = today.year # todays year\n",
        "days = 7 # Number of days in a week\n",
        "\n",
        "# Function that returns the user input and store it in separate container.\n",
        "def data_of_patient(no_of_days):\n",
        "    # Loop the number input from the no_of_entries.\n",
        "    for entries in range(no_of_days):\n",
        "        # Input the number the dates of the week by \"mm/dd\".\n",
        "        dates = monitor.inputDate(\"Please input the date? \", formats=['%m/%d'])\n",
        "        no_of_infected = monitor.inputNum(\"Please input the number of infected? \")\n",
        "\n",
        "        # Insert function to insert the objects inside the list we declared.\n",
        "        # `strftime` function converts datetime into string.\n",
        "        contain_data_list.insert(entries, dates.strftime('%m/%d'))\n",
        "        no_of_infected_per_week.insert(entries, no_of_infected)\n",
        "\n",
        "    return contain_data_list, no_of_infected_per_week\n",
        "\n",
        "\n",
        "# Function to put our data in a file, and returns 2 list.\n",
        "def output_data(date_list, infected_per_week):\n",
        "    # Exception handler, in case the File is not found in the System.\n",
        "    path = 'data.csv'  # variable contain the name of our file.\n",
        "\n",
        "    # Store the arguments from the parameter and store it in the object data.\n",
        "    data = {'Date': date_list,\n",
        "            'Number of Infected Patient': infected_per_week}\n",
        "\n",
        "    df = pd.DataFrame(data)\n",
        "    df.to_csv(path, index=False)\n",
        "\n",
        "    get_df = pd.read_csv(path) # read the csv file.\n",
        "    date_in_week = get_df['Date'] # store the data in the csv file into a list.\n",
        "    data_in_week = get_df['Number of Infected Patient'] # store the data in the csv file into a list.\n",
        "\n",
        "    return date_in_week, data_in_week\n",
        "\n",
        "\n",
        "# Function use take 2 parameter, and print the total, min, max, average, and the diagram.\n",
        "def print_output(w_date, w_data):\n",
        "    w_average = round(sum(w_data) / len(w_data), 2)\n",
        "    w_total = sum(w_data)\n",
        "\n",
        "    # Print out the total statistics\n",
        "    print('\\n\\n ====  Total Statistics === \\n')\n",
        "    print('Total infected people in a week: ', w_total)\n",
        "    print('Maximum infected people in a week: ', w_data.max())\n",
        "    print('Minimum infected people in a week: ', w_data.min())\n",
        "    print('Average infected people in a week: ', w_average)\n",
        "\n",
        "    all_data = {'x': w_date,\n",
        "                'y': w_data}\n",
        "\n",
        "    plot_df = pd.DataFrame(all_data) # Convert object into data\n",
        "    pt.plot(plot_df['x'], plot_df['y'], marker='o')  # 'o' specifies markers on data points, retrieve the x and y axis\n",
        "    pt.title(f'Flu Tracker Line Graph {year}')\n",
        "    pt.xlabel('\\nFlu Tracker Dates\\n')\n",
        "    pt.ylabel('Number of Infected People')\n",
        "    pt.grid(True)\n",
        "    pt.show()"
      ],
      "metadata": {
        "id": "EgAWa1JGL0wI"
      },
      "execution_count": 6,
      "outputs": []
    },
    {
      "cell_type": "code",
      "source": [
        "contain_data_list, no_of_infected_per_week = data_of_patient(days)\n",
        "week_date, week_data = output_data(contain_data_list, no_of_infected_per_week)\n",
        "print_output(week_date, week_data)"
      ],
      "metadata": {
        "colab": {
          "base_uri": "https://localhost:8080/",
          "height": 886
        },
        "id": "2zzQL68xxsrX",
        "outputId": "e6cb4ef8-97c9-4c6a-ded0-5296801ef0e2"
      },
      "execution_count": 7,
      "outputs": [
        {
          "output_type": "stream",
          "name": "stdout",
          "text": [
            "Please input the date? 09/01\n",
            "Please input the number of infected? 34\n",
            "Please input the date? 09/02\n",
            "Please input the number of infected? 35\n",
            "Please input the date? 09/03\n",
            "Please input the number of infected? 55\n",
            "Please input the date? 09/04\n",
            "Please input the number of infected? 65\n",
            "Please input the date? 09/05\n",
            "Please input the number of infected? 55\n",
            "Please input the date? 09/06\n",
            "Please input the number of infected? 98\n",
            "Please input the date? 09/07\n",
            "Please input the number of infected? 100\n",
            "\n",
            "\n",
            " ====  Total Statistics === \n",
            "\n",
            "Total infected people in a week:  442\n",
            "Maximum infected people in a week:  100\n",
            "Minimum infected people in a week:  34\n",
            "Average infected people in a week:  63.14\n"
          ]
        },
        {
          "output_type": "display_data",
          "data": {
            "text/plain": [
              "<Figure size 640x480 with 1 Axes>"
            ],
            "image/png": "[encoded data removed]"
          },
          "metadata": {}
        }
      ]
    }
  ]
}