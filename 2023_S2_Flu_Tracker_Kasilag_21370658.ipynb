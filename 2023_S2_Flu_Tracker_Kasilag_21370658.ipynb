{
  "nbformat": 4,
  "nbformat_minor": 0,
  "metadata": {
    "colab": {
      "provenance": [],
      "toc_visible": true,
      "include_colab_link": true
    },
    "kernelspec": {
      "name": "python3",
      "display_name": "Python 3"
    },
    "language_info": {
      "name": "python"
    }
  },
  "cells": [
    {
      "cell_type": "markdown",
      "metadata": {
        "id": "view-in-github",
        "colab_type": "text"
      },
      "source": [
        "<a href=\"https://colab.research.google.com/github/zniero1324/21370658_Programming_Assignment_ISYS5002/blob/main/2023_S2_Flu_Tracker_Kasilag_21370658.ipynb\" target=\"_parent\"><img src=\"https://colab.research.google.com/assets/colab-badge.svg\" alt=\"Open In Colab\"/></a>"
      ]
    },
    {
      "cell_type": "markdown",
      "source": [
        "# Formative Programming Assignment\n",
        "\n",
        "**Due: Sunday 3rd September**\n",
        "\n",
        "## **Problem Statement:**\n",
        "During the flu season, it is crucial for healthcare organisations to accurately monitor and analyse the number of infected patients to effectively respond to potential outbreaks. To streamline this process, a software solution needs to be designed and developed that allows users to input daily reported infection numbers over the course of a week. The program should then provide key statistical insights such as the total, average, smallest, and largest of these values and a graphical representation to visualise the trend of infection counts throughout the week.\n"
      ],
      "metadata": {
        "id": "WhNEeF5C8oAn"
      }
    },
    {
      "cell_type": "markdown",
      "source": [
        "**Before you start:**\n",
        "\n",
        "* setup the **new private repo** and **invite isys5002.itp@gmail.com** as a **collaborator** to your private GitHub repository.\n",
        "* **Download** the attached .ipynb notebook and **rename** it to ***2023_S1_Flu_Tracker_[name]_[studentID]***\n",
        "* Save the renamed notebook to your private GitHub repository.\n",
        "* Copy and paste the **repository/notebook link** in the **ANSWER textbox on Blackboard**."
      ],
      "metadata": {
        "id": "xgxJMH6h_UTi"
      }
    },
    {
      "cell_type": "markdown",
      "source": [
        "**Task:**\n",
        "\n",
        "Following the **six-steps problem-solving methodology**, **design and implement** the solution following good programming practices, such as modularising code, validating inputs, handling errors properly, and adhering to the [PEP8](https://peps.python.org/pep-0008/) style guide.\n",
        "\n",
        "Adhering to PEP8 standards:\n",
        "* programming style naming conventions used in the PEP8, which include:\n",
        "  * Meaningful names for projects, variables, methods, and controls.\n",
        "  * Correct capitalisation of variables and methods\n",
        "* Appropriate use of comments\n",
        "* Reference any relevant forums, websites, and videos that you used.\n",
        "* Use of space and indentation to the program is easy to read."
      ],
      "metadata": {
        "id": "Vl1HBpkh_C5b"
      }
    },
    {
      "cell_type": "markdown",
      "source": [
        "# **ANSWER**"
      ],
      "metadata": {
        "id": "fe3nQ5p8_Hdc"
      }
    },
    {
      "cell_type": "code",
      "source": [
        "!pip install PyInputPlus\n",
        "!pip install pandas"
      ],
      "metadata": {
        "colab": {
          "base_uri": "https://localhost:8080/"
        },
        "id": "TXN3pgIZFxLC",
        "outputId": "a201aceb-33b7-4306-b587-800cf0fc3566"
      },
      "execution_count": null,
      "outputs": [
        {
          "output_type": "stream",
          "name": "stdout",
          "text": [
            "Requirement already satisfied: PyInputPlus in /usr/local/lib/python3.10/dist-packages (0.2.12)\n",
            "Requirement already satisfied: pysimplevalidate>=0.2.7 in /usr/local/lib/python3.10/dist-packages (from PyInputPlus) (0.2.12)\n",
            "Requirement already satisfied: stdiomask>=0.0.3 in /usr/local/lib/python3.10/dist-packages (from PyInputPlus) (0.0.6)\n",
            "Requirement already satisfied: pandas in /usr/local/lib/python3.10/dist-packages (1.5.3)\n",
            "Requirement already satisfied: python-dateutil>=2.8.1 in /usr/local/lib/python3.10/dist-packages (from pandas) (2.8.2)\n",
            "Requirement already satisfied: pytz>=2020.1 in /usr/local/lib/python3.10/dist-packages (from pandas) (2023.3)\n",
            "Requirement already satisfied: numpy>=1.21.0 in /usr/local/lib/python3.10/dist-packages (from pandas) (1.23.5)\n",
            "Requirement already satisfied: six>=1.5 in /usr/local/lib/python3.10/dist-packages (from python-dateutil>=2.8.1->pandas) (1.16.0)\n"
          ]
        }
      ]
    },
    {
      "cell_type": "code",
      "source": [
        "import pandas as pd\n",
        "import matplotlib.pyplot as pt\n",
        "import pyinputplus as monitor\n",
        "\n",
        "# Declare all variable\n",
        "data_for_x = []  # List data type to contain the x-axis of the diagram.\n",
        "data_for_y = []  # List data type to contain the y-axis of the diagram.\n",
        "start_date_list = []  # List to contain all start date of the week we will input.\n",
        "end_date_list = []  # List to contain all end date of the week we will input.\n",
        "no_of_infected_per_week = []  # List to the no. of infected people.\n",
        "file_path = 'data.csv'  # variable contain the name of our file.\n",
        "\n",
        "# Determine the number of weeks user want to be input inside the csv file.\n",
        "# Tips you can key in zero yo proceed to the data immediately\n",
        "no_of_entries = monitor.inputInt(\"Please put no. of entries: \")\n",
        "\n",
        "# Loop the number input from the no_of_entries.\n",
        "for entries in range(no_of_entries):\n",
        "    # Input the number the dates of the week by \"dd/mm/yyyy\".\n",
        "    start_date = monitor.inputDate(\"Please input the start date of the week? \")\n",
        "    end_date = monitor.inputDate(\"Please input the end date of the week? \")\n",
        "    no_of_infected = monitor.inputFloat(\"Please input the number of infected? \")\n",
        "\n",
        "    while start_date > end_date:  # Loop through if start of the week is after end of the week.\n",
        "        print(\"Start date should be before end date \\n Please try again.\\n\")\n",
        "        start_date = monitor.inputDate(\"Please input the start date of the week? \")\n",
        "        end_date = monitor.inputDate(\"Please input the end date of the week? \")\n",
        "\n",
        "    # Insert function to insert the objects inside the list we declared.\n",
        "    # `strftime` function converts datetime into string.\n",
        "    start_date_list.insert(no_of_entries, start_date.strftime('%m/%d/%Y'))\n",
        "    end_date_list.insert(no_of_entries, end_date.strftime('%m/%d/%Y'))\n",
        "    no_of_infected_per_week.insert(no_of_entries, no_of_infected)\n",
        "\n",
        "# Exception handler in case the File is not found in the System.\n",
        "try:\n",
        "    existing_df = pd.read_csv(file_path)\n",
        "\n",
        "    # Put all the data inside our object.\n",
        "    new_data = {'Start Date': start_date_list,\n",
        "                'End Date': end_date_list,\n",
        "                'Number of Infected Patient': no_of_infected_per_week}\n",
        "\n",
        "    new_df = pd.DataFrame(new_data)\n",
        "    combined_df = pd.concat([existing_df, new_df], ignore_index=True)  # Concatinate the data inside our file using the panda module\n",
        "    combined_df.to_csv(file_path, index=False)  # Saved it inside the csv file.\n",
        "\n",
        "except FileNotFoundError:\n",
        "    data = {'Start Date': start_date_list,\n",
        "            'End Date': end_date_list,\n",
        "            'Number of Infected Patient': no_of_infected_per_week}\n",
        "\n",
        "    df = pd.DataFrame(data)\n",
        "    file_path = 'data.csv'\n",
        "    df.to_csv(file_path, index=False)\n",
        "\n",
        "data_frame = pd.read_csv(file_path)\n",
        "week_data = data_frame['Number of Infected Patient']\n",
        "week_average = round(sum(week_data) / len(week_data), 2)\n",
        "\n",
        "for x in range(len(week_data)):\n",
        "    data_for_x.insert(x, str(x + 1))\n",
        "    data_for_y.insert(x, float(week_data[x]))\n",
        "\n",
        "print('\\n\\n ====  Total Statistics === \\n')\n",
        "print('Maximum infection per week: ', week_data.max())\n",
        "print('Minimum infection per week: ', week_data.min())\n",
        "print('Average infection per week: ', week_average)\n",
        "\n",
        "all_data = {'x': data_for_x,\n",
        "            'y': data_for_y}\n",
        "\n",
        "plot_df = pd.DataFrame(all_data)\n",
        "pt.plot(plot_df['x'], plot_df['y'], marker='o')  # 'o' specifies markers on data points\n",
        "pt.title('Flu Tracker Line Graph')\n",
        "pt.xlabel('No of Weeks')\n",
        "pt.ylabel('Number of Infected')\n",
        "pt.grid(True)\n",
        "pt.show()\n"
      ],
      "metadata": {
        "colab": {
          "base_uri": "https://localhost:8080/",
          "height": 767
        },
        "id": "EgAWa1JGL0wI",
        "outputId": "00348d96-a432-4618-ad17-4848b5090f3b"
      },
      "execution_count": null,
      "outputs": [
        {
          "output_type": "stream",
          "name": "stdout",
          "text": [
            "Please put no. of entries: 3\n",
            "Please input the start date of the week? 01/01/2023\n",
            "Please input the end date of the week? 02/02/2023\n",
            "Please input the number of infected? 13\n",
            "Please input the start date of the week? 03/03/2023\n",
            "Please input the end date of the week? 03/03/2023\n",
            "Please input the number of infected? 14\n",
            "Please input the start date of the week? 05/05/2023\n",
            "Please input the end date of the week? 05/05/2023\n",
            "Please input the number of infected? 5\n",
            "\n",
            "\n",
            " ====  Total Statistics === \n",
            "\n",
            "Maximum infection per week:  14.0\n",
            "Minimum infection per week:  5.0\n",
            "Average infection per week:  10.67\n"
          ]
        },
        {
          "output_type": "display_data",
          "data": {
            "text/plain": [
              "<Figure size 640x480 with 1 Axes>"
            ],
            "image/png": "[encoded data removed]"
          },
          "metadata": {}
        }
      ]
    }
  ]
}